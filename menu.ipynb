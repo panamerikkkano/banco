{
 "cells": [
  {
   "cell_type": "code",
   "execution_count": 1,
   "id": "established-slope",
   "metadata": {},
   "outputs": [],
   "source": [
    "import arbol2\n",
    "import os\n",
    "from importlib import reload\n",
    "reload(arbol2) #para refreshear mi modulo arbol en caso que haya alguna modificacion \n",
    "class Banco:\n",
    "    def __init__(self,nombre):\n",
    "        self.nombre = nombre\n",
    "        # en referencia a las personas con preferencia\n",
    "        # 0 = persona sin privilegios \n",
    "        # 1 = persona con preferencia por tanto se va al principio de la cola.\n",
    "        self.cola = []\n",
    "        self.clientes = arbol2.arbol()\n",
    "        self.valoraciones = []\n",
    "    def llegada(self,privilegio):\n",
    "        if privilegio == 1:\n",
    "            #en caso que la persona tenga atencion preferencial\n",
    "            # sera trasladada al inicio de la cola\n",
    "            self.cola.insert(0,privilegio)\n",
    "        else:\n",
    "            # caso para una persona \"normal\"\n",
    "            self.cola.append(privilegio)\n",
    "\n",
    "    def atencion(self,person):\n",
    "        self.clientes.root = self.clientes.insert(self.clientes.root,person)\n",
    "        if len(self.cola) > 0:\n",
    "            del self.cola[0]\n",
    "        else:\n",
    "            print('no existen personas en la cola de espera')\n",
    "        \n",
    "    def buscar(self,dni):\n",
    "        if self.clientes.buscar(dni, self.clientes.root) == None:\n",
    "            print(\"\\n dni no encontrado...\")\n",
    "        else:\n",
    "            print(\"\\n dni encontrado -> \",self.clientes.buscar(dni, self.clientes.root))\n",
    "            \n",
    "    def valoracion(self,data):\n",
    "        self.valoraciones.append(data)\n",
    "    def pre_orden(self):\n",
    "        if self.clientes.root == None:\n",
    "            print('Aun no existen clientes..,')\n",
    "        else:\n",
    "            self.clientes.preorder(self.clientes.root)\n",
    "    def post_orden(self):\n",
    "        if self.clientes.root == None:\n",
    "            print('Aun no existen clientes..,')\n",
    "        else:\n",
    "            self.clientes.postorder(self.clientes.root)\n",
    "    def in_orden(self):\n",
    "        if self.clientes.root == None:\n",
    "            print('Aun no existen clientes..,')\n",
    "        else:\n",
    "            self.clientes.inorder(self.clientes.root)\n",
    "            \n",
    "            "
   ]
  },
  {
   "cell_type": "code",
   "execution_count": 2,
   "id": "virtual-booking",
   "metadata": {},
   "outputs": [
    {
     "name": "stdout",
     "output_type": "stream",
     "text": [
      "\n",
      "-----------------------------------------------------\n",
      "\n",
      "Opción 1: Llegada de cliente\n",
      "Opción 2: Atención de cliente\n",
      "Opción 3: Valoración de atención por parte de cliente\n",
      "Opción 4: Búsqueda de cliente\n",
      "Opción 5: Recorrido en preorden\n",
      "Opción 6: Recorrido en postorden\n",
      "Opción 7: Recorrido en inorden\n",
      "Opción 8: Clear\n",
      "Opción 0: Salir\n",
      "    \n"
     ]
    },
    {
     "name": "stdin",
     "output_type": "stream",
     "text": [
      ">  1\n",
      "tiene la persona atencion preferencial? por ejemplo\n",
      "persona con discapacidad / adulto mayor / embarazada >(si/no) si\n"
     ]
    },
    {
     "name": "stdout",
     "output_type": "stream",
     "text": [
      "\n",
      "-----------------------------------------------------\n",
      "\n",
      "Opción 1: Llegada de cliente\n",
      "Opción 2: Atención de cliente\n",
      "Opción 3: Valoración de atención por parte de cliente\n",
      "Opción 4: Búsqueda de cliente\n",
      "Opción 5: Recorrido en preorden\n",
      "Opción 6: Recorrido en postorden\n",
      "Opción 7: Recorrido en inorden\n",
      "Opción 8: Clear\n",
      "Opción 0: Salir\n",
      "    \n"
     ]
    },
    {
     "name": "stdin",
     "output_type": "stream",
     "text": [
      ">  2\n"
     ]
    },
    {
     "name": "stdout",
     "output_type": "stream",
     "text": [
      "cola actual:  [1, 1, 1, 1, 1, 1, 1, 1, 0, 0, 0, 0, 0, 0]\n",
      "ingrese Nombres\n"
     ]
    },
    {
     "name": "stdin",
     "output_type": "stream",
     "text": [
      " julio\n"
     ]
    },
    {
     "name": "stdout",
     "output_type": "stream",
     "text": [
      "ingrese Apellidos\n"
     ]
    },
    {
     "name": "stdin",
     "output_type": "stream",
     "text": [
      " ramon castillo\n"
     ]
    },
    {
     "name": "stdout",
     "output_type": "stream",
     "text": [
      "ingrese DNI\n"
     ]
    },
    {
     "name": "stdin",
     "output_type": "stream",
     "text": [
      " 87654321\n"
     ]
    },
    {
     "name": "stdout",
     "output_type": "stream",
     "text": [
      "ingrese Edad\n"
     ]
    },
    {
     "name": "stdin",
     "output_type": "stream",
     "text": [
      " 44\n"
     ]
    },
    {
     "name": "stdout",
     "output_type": "stream",
     "text": [
      "\n",
      "-----------------------------------------------------\n",
      "\n",
      "Opción 1: Llegada de cliente\n",
      "Opción 2: Atención de cliente\n",
      "Opción 3: Valoración de atención por parte de cliente\n",
      "Opción 4: Búsqueda de cliente\n",
      "Opción 5: Recorrido en preorden\n",
      "Opción 6: Recorrido en postorden\n",
      "Opción 7: Recorrido en inorden\n",
      "Opción 8: Clear\n",
      "Opción 0: Salir\n",
      "    \n"
     ]
    },
    {
     "name": "stdin",
     "output_type": "stream",
     "text": [
      ">  4\n",
      "ingrese un dni:  87654321\n"
     ]
    },
    {
     "name": "stdout",
     "output_type": "stream",
     "text": [
      "\n",
      " dni encontrado ->  {'Nombres': 'julio', 'Apellidos': 'ramon castillo', 'DNI': 87654321, 'Edad': 44}\n",
      "\n",
      "-----------------------------------------------------\n",
      "\n",
      "Opción 1: Llegada de cliente\n",
      "Opción 2: Atención de cliente\n",
      "Opción 3: Valoración de atención por parte de cliente\n",
      "Opción 4: Búsqueda de cliente\n",
      "Opción 5: Recorrido en preorden\n",
      "Opción 6: Recorrido en postorden\n",
      "Opción 7: Recorrido en inorden\n",
      "Opción 8: Clear\n",
      "Opción 0: Salir\n",
      "    \n"
     ]
    },
    {
     "name": "stdin",
     "output_type": "stream",
     "text": [
      ">  6\n"
     ]
    },
    {
     "name": "stdout",
     "output_type": "stream",
     "text": [
      "{'Nombres': 'julio', 'Apellidos': 'ramon castillo', 'DNI': 87654321, 'Edad': 44}\n",
      "{'Nombres': 'jose', 'Apellidos': 'quispe manzo', 'DNI': 6, 'Edad': 14}\n",
      "{'Nombres': 'julio', 'Apellidos': 'nanzo quis', 'DNI': 2, 'Edad': 11}\n",
      "{'Nombres': 'jose', 'Apellidos': 'quispe manzo', 'DNI': 1, 'Edad': 14}\n",
      "\n",
      "-----------------------------------------------------\n",
      "\n",
      "Opción 1: Llegada de cliente\n",
      "Opción 2: Atención de cliente\n",
      "Opción 3: Valoración de atención por parte de cliente\n",
      "Opción 4: Búsqueda de cliente\n",
      "Opción 5: Recorrido en preorden\n",
      "Opción 6: Recorrido en postorden\n",
      "Opción 7: Recorrido en inorden\n",
      "Opción 8: Clear\n",
      "Opción 0: Salir\n",
      "    \n"
     ]
    },
    {
     "name": "stdin",
     "output_type": "stream",
     "text": [
      ">  7\n"
     ]
    },
    {
     "name": "stdout",
     "output_type": "stream",
     "text": [
      "{'Nombres': 'jose', 'Apellidos': 'quispe manzo', 'DNI': 1, 'Edad': 14}\n",
      "{'Nombres': 'julio', 'Apellidos': 'nanzo quis', 'DNI': 2, 'Edad': 11}\n",
      "{'Nombres': 'jose', 'Apellidos': 'quispe manzo', 'DNI': 6, 'Edad': 14}\n",
      "{'Nombres': 'julio', 'Apellidos': 'ramon castillo', 'DNI': 87654321, 'Edad': 44}\n",
      "\n",
      "-----------------------------------------------------\n",
      "\n",
      "Opción 1: Llegada de cliente\n",
      "Opción 2: Atención de cliente\n",
      "Opción 3: Valoración de atención por parte de cliente\n",
      "Opción 4: Búsqueda de cliente\n",
      "Opción 5: Recorrido en preorden\n",
      "Opción 6: Recorrido en postorden\n",
      "Opción 7: Recorrido en inorden\n",
      "Opción 8: Clear\n",
      "Opción 0: Salir\n",
      "    \n"
     ]
    },
    {
     "name": "stdin",
     "output_type": "stream",
     "text": [
      ">  8\n"
     ]
    },
    {
     "name": "stdout",
     "output_type": "stream",
     "text": [
      "\n",
      "-----------------------------------------------------\n",
      "\n",
      "Opción 1: Llegada de cliente\n",
      "Opción 2: Atención de cliente\n",
      "Opción 3: Valoración de atención por parte de cliente\n",
      "Opción 4: Búsqueda de cliente\n",
      "Opción 5: Recorrido en preorden\n",
      "Opción 6: Recorrido en postorden\n",
      "Opción 7: Recorrido en inorden\n",
      "Opción 8: Clear\n",
      "Opción 0: Salir\n",
      "    \n"
     ]
    },
    {
     "name": "stdin",
     "output_type": "stream",
     "text": [
      ">  0\n"
     ]
    }
   ],
   "source": [
    "banco_cpp = Banco('banco de la nacion')\n",
    "#cola de espera de 12 personas de las cuales 8 tienen atencion preferencial\n",
    "banco_cpp.llegada(1)\n",
    "banco_cpp.llegada(1)\n",
    "banco_cpp.llegada(0)\n",
    "banco_cpp.llegada(1)\n",
    "banco_cpp.llegada(1)\n",
    "banco_cpp.llegada(0)\n",
    "banco_cpp.llegada(1)\n",
    "banco_cpp.llegada(1)\n",
    "banco_cpp.llegada(0)\n",
    "banco_cpp.llegada(1)\n",
    "banco_cpp.llegada(1)\n",
    "banco_cpp.llegada(0)\n",
    "data = []\n",
    "data.append({'Nombres': 'jose', 'Apellidos': 'quispe manzo', 'DNI': 1, 'Edad': 14})\n",
    "data.append({'Nombres': 'julio', 'Apellidos': 'nanzo quis', 'DNI': 2, 'Edad': 11})\n",
    "data.append({'Nombres': 'jose', 'Apellidos': 'quispe manzo', 'DNI': 6, 'Edad': 14})\n",
    "for person in data:\n",
    "    banco_cpp.atencion(person)\n",
    "banco_cpp.llegada(1)\n",
    "banco_cpp.llegada(0)\n",
    "banco_cpp.llegada(1)\n",
    "banco_cpp.llegada(0)\n",
    "## banco_cpp = Banco('banco de la nacion')\n",
    "while 1:\n",
    "    print(\"\"\"\n",
    "-----------------------------------------------------\\n\n",
    "Opción 1: Llegada de cliente\n",
    "Opción 2: Atención de cliente\n",
    "Opción 3: Valoración de atención por parte de cliente\n",
    "Opción 4: Búsqueda de cliente\n",
    "Opción 5: Recorrido en preorden\n",
    "Opción 6: Recorrido en postorden\n",
    "Opción 7: Recorrido en inorden\n",
    "Opción 8: Clear\n",
    "Opción 0: Salir\n",
    "    \"\"\")\n",
    "    opcion = int(input('> '))\n",
    "    if opcion == 1: # llegada de cliente\n",
    "        priv = input(\"tiene la persona atencion preferencial? por ejemplo\\npersona con discapacidad / adulto mayor / embarazada >(si/no)\")\n",
    "        if priv == \"si\":\n",
    "            banco_cpp.llegada(1)\n",
    "        elif priv == \"no\":\n",
    "            banco_cpp.llegada(0)\n",
    "        else:\n",
    "            pass\n",
    "        \n",
    "    elif opcion == 2: # atencion de cliente\n",
    "        print(\"cola actual: \",banco_cpp.cola)\n",
    "        #pidiendo los datos al cliente.\n",
    "        data = {\n",
    "            'Nombres':None,\n",
    "            'Apellidos':None,\n",
    "            'DNI':None,\n",
    "            'Edad':None\n",
    "        }\n",
    "        for key in data.keys():\n",
    "            print(\"ingrese %s\" %key)\n",
    "            data[key] = input()\n",
    "        data['DNI'] = int(data['DNI'])\n",
    "        data['Edad'] = int(data['Edad'])\n",
    "        banco_cpp.atencion(data)            \n",
    "    elif opcion == 3:\n",
    "        val = int(input('ingrese una valoracion: 0/1: '))\n",
    "        banco_cpp.valoracion(val)\n",
    "        print('lista de valoraciones: ',banco_cpp.valoraciones)\n",
    "        \n",
    "    elif opcion == 4:\n",
    "        dni = int(input('ingrese un dni: '))\n",
    "        banco_cpp.buscar(dni)\n",
    "    elif opcion == 5:\n",
    "        banco_cpp.pre_orden()\n",
    "    elif opcion == 6:\n",
    "        banco_cpp.post_orden()\n",
    "    elif opcion == 7:\n",
    "        banco_cpp.in_orden()\n",
    "    elif opcion == 8:\n",
    "        os.system('clear')\n",
    "    elif opcion == 0:\n",
    "        break\n"
   ]
  },
  {
   "cell_type": "code",
   "execution_count": null,
   "id": "encouraging-rabbit",
   "metadata": {},
   "outputs": [],
   "source": []
  }
 ],
 "metadata": {
  "kernelspec": {
   "display_name": "Python 3",
   "language": "python",
   "name": "python3"
  },
  "language_info": {
   "codemirror_mode": {
    "name": "ipython",
    "version": 3
   },
   "file_extension": ".py",
   "mimetype": "text/x-python",
   "name": "python",
   "nbconvert_exporter": "python",
   "pygments_lexer": "ipython3",
   "version": "3.9.1"
  }
 },
 "nbformat": 4,
 "nbformat_minor": 5
}
